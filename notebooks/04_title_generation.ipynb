{
 "cells": [
  {
   "cell_type": "markdown",
   "metadata": {
    "id": "ovazFKkoTX3L"
   },
   "source": [
    "# Title Generation for arXiv dataset"
   ]
  },
  {
   "cell_type": "code",
   "execution_count": null,
   "metadata": {
    "id": "waZduiyHlasN"
   },
   "outputs": [],
   "source": [
    "# Installing libraries in Google Colab:"
   ]
  },
  {
   "cell_type": "code",
   "execution_count": 54,
   "metadata": {
    "colab": {
     "base_uri": "https://localhost:8080/"
    },
    "id": "ts26YffRTvTH",
    "outputId": "dcc2f2eb-ce24-4131-df51-0620d631fef5"
   },
   "outputs": [
    {
     "name": "stdout",
     "output_type": "stream",
     "text": [
      "Requirement already satisfied: transformers in /usr/local/lib/python3.7/dist-packages (4.12.5)\n",
      "Requirement already satisfied: datasets in /usr/local/lib/python3.7/dist-packages (1.16.1)\n",
      "Collecting rouge_score\n",
      "  Downloading rouge_score-0.0.4-py2.py3-none-any.whl (22 kB)\n",
      "Requirement already satisfied: tokenizers<0.11,>=0.10.1 in /usr/local/lib/python3.7/dist-packages (from transformers) (0.10.3)\n",
      "Requirement already satisfied: sacremoses in /usr/local/lib/python3.7/dist-packages (from transformers) (0.0.46)\n",
      "Requirement already satisfied: numpy>=1.17 in /usr/local/lib/python3.7/dist-packages (from transformers) (1.19.5)\n",
      "Requirement already satisfied: pyyaml>=5.1 in /usr/local/lib/python3.7/dist-packages (from transformers) (6.0)\n",
      "Requirement already satisfied: requests in /usr/local/lib/python3.7/dist-packages (from transformers) (2.23.0)\n",
      "Requirement already satisfied: filelock in /usr/local/lib/python3.7/dist-packages (from transformers) (3.4.0)\n",
      "Requirement already satisfied: regex!=2019.12.17 in /usr/local/lib/python3.7/dist-packages (from transformers) (2019.12.20)\n",
      "Requirement already satisfied: importlib-metadata in /usr/local/lib/python3.7/dist-packages (from transformers) (4.8.2)\n",
      "Requirement already satisfied: packaging>=20.0 in /usr/local/lib/python3.7/dist-packages (from transformers) (21.3)\n",
      "Requirement already satisfied: tqdm>=4.27 in /usr/local/lib/python3.7/dist-packages (from transformers) (4.62.3)\n",
      "Requirement already satisfied: huggingface-hub<1.0,>=0.1.0 in /usr/local/lib/python3.7/dist-packages (from transformers) (0.1.2)\n",
      "Requirement already satisfied: typing-extensions>=3.7.4.3 in /usr/local/lib/python3.7/dist-packages (from huggingface-hub<1.0,>=0.1.0->transformers) (3.10.0.2)\n",
      "Requirement already satisfied: pyparsing!=3.0.5,>=2.0.2 in /usr/local/lib/python3.7/dist-packages (from packaging>=20.0->transformers) (3.0.6)\n",
      "Requirement already satisfied: pyarrow!=4.0.0,>=3.0.0 in /usr/local/lib/python3.7/dist-packages (from datasets) (3.0.0)\n",
      "Requirement already satisfied: fsspec[http]>=2021.05.0 in /usr/local/lib/python3.7/dist-packages (from datasets) (2021.11.1)\n",
      "Requirement already satisfied: xxhash in /usr/local/lib/python3.7/dist-packages (from datasets) (2.0.2)\n",
      "Requirement already satisfied: dill in /usr/local/lib/python3.7/dist-packages (from datasets) (0.3.4)\n",
      "Requirement already satisfied: multiprocess in /usr/local/lib/python3.7/dist-packages (from datasets) (0.70.12.2)\n",
      "Requirement already satisfied: aiohttp in /usr/local/lib/python3.7/dist-packages (from datasets) (3.8.1)\n",
      "Requirement already satisfied: pandas in /usr/local/lib/python3.7/dist-packages (from datasets) (1.1.5)\n",
      "Requirement already satisfied: chardet<4,>=3.0.2 in /usr/local/lib/python3.7/dist-packages (from requests->transformers) (3.0.4)\n",
      "Requirement already satisfied: urllib3!=1.25.0,!=1.25.1,<1.26,>=1.21.1 in /usr/local/lib/python3.7/dist-packages (from requests->transformers) (1.24.3)\n",
      "Requirement already satisfied: certifi>=2017.4.17 in /usr/local/lib/python3.7/dist-packages (from requests->transformers) (2021.10.8)\n",
      "Requirement already satisfied: idna<3,>=2.5 in /usr/local/lib/python3.7/dist-packages (from requests->transformers) (2.10)\n",
      "Requirement already satisfied: nltk in /usr/local/lib/python3.7/dist-packages (from rouge_score) (3.2.5)\n",
      "Requirement already satisfied: six>=1.14.0 in /usr/local/lib/python3.7/dist-packages (from rouge_score) (1.15.0)\n",
      "Requirement already satisfied: absl-py in /usr/local/lib/python3.7/dist-packages (from rouge_score) (0.12.0)\n",
      "Requirement already satisfied: charset-normalizer<3.0,>=2.0 in /usr/local/lib/python3.7/dist-packages (from aiohttp->datasets) (2.0.7)\n",
      "Requirement already satisfied: yarl<2.0,>=1.0 in /usr/local/lib/python3.7/dist-packages (from aiohttp->datasets) (1.7.2)\n",
      "Requirement already satisfied: attrs>=17.3.0 in /usr/local/lib/python3.7/dist-packages (from aiohttp->datasets) (21.2.0)\n",
      "Requirement already satisfied: aiosignal>=1.1.2 in /usr/local/lib/python3.7/dist-packages (from aiohttp->datasets) (1.2.0)\n",
      "Requirement already satisfied: frozenlist>=1.1.1 in /usr/local/lib/python3.7/dist-packages (from aiohttp->datasets) (1.2.0)\n",
      "Requirement already satisfied: async-timeout<5.0,>=4.0.0a3 in /usr/local/lib/python3.7/dist-packages (from aiohttp->datasets) (4.0.1)\n",
      "Requirement already satisfied: multidict<7.0,>=4.5 in /usr/local/lib/python3.7/dist-packages (from aiohttp->datasets) (5.2.0)\n",
      "Requirement already satisfied: asynctest==0.13.0 in /usr/local/lib/python3.7/dist-packages (from aiohttp->datasets) (0.13.0)\n",
      "Requirement already satisfied: zipp>=0.5 in /usr/local/lib/python3.7/dist-packages (from importlib-metadata->transformers) (3.6.0)\n",
      "Requirement already satisfied: pytz>=2017.2 in /usr/local/lib/python3.7/dist-packages (from pandas->datasets) (2018.9)\n",
      "Requirement already satisfied: python-dateutil>=2.7.3 in /usr/local/lib/python3.7/dist-packages (from pandas->datasets) (2.8.2)\n",
      "Requirement already satisfied: click in /usr/local/lib/python3.7/dist-packages (from sacremoses->transformers) (7.1.2)\n",
      "Requirement already satisfied: joblib in /usr/local/lib/python3.7/dist-packages (from sacremoses->transformers) (1.1.0)\n",
      "Installing collected packages: rouge-score\n",
      "Successfully installed rouge-score-0.0.4\n"
     ]
    }
   ],
   "source": [
    "pip install transformers datasets rouge_score"
   ]
  },
  {
   "cell_type": "code",
   "execution_count": null,
   "metadata": {
    "id": "9-yt0w5LTX3e"
   },
   "outputs": [],
   "source": [
    "# STEPS\n",
    "\n",
    "# Load dataset\n",
    "# Preprocessing\n",
    "# fine-tuning\n",
    "\n",
    "# source: https://github.com/huggingface/notebooks/blob/master/examples/summarization-tf.ipynb"
   ]
  },
  {
   "cell_type": "markdown",
   "metadata": {
    "id": "56O7SuZPTX3e"
   },
   "source": [
    "### loading the dataset"
   ]
  },
  {
   "cell_type": "code",
   "execution_count": 9,
   "metadata": {
    "id": "xsNJuINaTX3h"
   },
   "outputs": [],
   "source": [
    "from datasets import load_metric, load_dataset"
   ]
  },
  {
   "cell_type": "code",
   "execution_count": 10,
   "metadata": {
    "id": "HA60F6vYTX3j"
   },
   "outputs": [],
   "source": [
    "model_checkpoint = \"t5-small\""
   ]
  },
  {
   "cell_type": "code",
   "execution_count": 30,
   "metadata": {
    "colab": {
     "base_uri": "https://localhost:8080/"
    },
    "id": "KHcj_QveTX3n",
    "outputId": "cb896170-1b23-428f-873b-84d6fb7da0a1"
   },
   "outputs": [
    {
     "name": "stderr",
     "output_type": "stream",
     "text": [
      "Using custom data configuration default-eef37d2e802815aa\n",
      "Reusing dataset csv (/root/.cache/huggingface/datasets/csv/default-eef37d2e802815aa/0.0.0/bf68a4c4aefa545d0712b2fcbb1b327f905bbe2f6425fbc5e8c25234acb9e14a)\n"
     ]
    }
   ],
   "source": [
    "dataset = load_dataset('csv', data_files='./input/sample_df_2021.csv', split='train[:10%]')"
   ]
  },
  {
   "cell_type": "code",
   "execution_count": 31,
   "metadata": {
    "colab": {
     "base_uri": "https://localhost:8080/"
    },
    "id": "RhxsVLbvTX3o",
    "outputId": "13416038-841e-476c-da83-befb9657c1aa"
   },
   "outputs": [
    {
     "data": {
      "text/plain": [
       "{'abstract': \"  Impact evaluation in public engagement necessarily requires measuring change.\\nHowever, this is extremely challenging for drop-in activities due to their very\\nnature. We present a novel method of impact evaluation which integrates\\ngraffiti walls into the experience both before and after the main drop-in\\nactivity. The activity in question was a soundscape exhibit, where young\\nfamilies experienced the usually inaudible sounds of near-Earth space in an\\nimmersive and accessible way. We apply two analysis techniques to the captured\\nbefore and after data - quantitative linguistics and thematic analysis. These\\nanalyses reveal significant changes in participants' responses after the\\nactivity compared to before, namely an increased diversity in language used to\\ndescribe space and altered conceptions of what space is like. The results\\ndemonstrate that the soundscape was surprisingly effective at innately\\ncommunicating key aspects of the underlying science simply through the act of\\nlistening. The impacts also highlight the power of sonification in stimulating\\npublic engagement, which, through reflection, can lead to altered associations,\\nperceptions, and understanding. Therefore, we show that this novel approach to\\ndrop-in activity evaluation, using graffiti walls both before and after the\\nactivity and applying rigorous analysis to this data, has the power to capture\\nchange and, thus, have a short-term impact. We suggest that commonly used\\nevaluation tools suitable for drop-in activities, such as graffiti walls,\\nshould be integrated both before and after the main activity in general, rather\\nthan only using them afterwards as is typically the case.\\n\",\n",
       " 'category': \"['physics.ed-ph', 'physics.pop-ph']\",\n",
       " 'general_category': \"['physics', 'physics']\",\n",
       " 'id': '2102.09833',\n",
       " 'title': 'Demonstrating change from a drop-in space soundscape exhibit by using\\n  graffiti walls both before and after'}"
      ]
     },
     "execution_count": 31,
     "metadata": {},
     "output_type": "execute_result"
    }
   ],
   "source": [
    "dataset[0]"
   ]
  },
  {
   "cell_type": "code",
   "execution_count": 32,
   "metadata": {
    "id": "eqIE4ucNTX3q"
   },
   "outputs": [],
   "source": [
    "dataset = dataset.train_test_split()"
   ]
  },
  {
   "cell_type": "code",
   "execution_count": 33,
   "metadata": {
    "colab": {
     "base_uri": "https://localhost:8080/"
    },
    "id": "9Amn8SrBVfZA",
    "outputId": "1c7179cd-a2d7-468c-cd25-277cd09dc769"
   },
   "outputs": [
    {
     "data": {
      "text/plain": [
       "DatasetDict({\n",
       "    train: Dataset({\n",
       "        features: ['id', 'title', 'category', 'abstract', 'general_category'],\n",
       "        num_rows: 7550\n",
       "    })\n",
       "    test: Dataset({\n",
       "        features: ['id', 'title', 'category', 'abstract', 'general_category'],\n",
       "        num_rows: 2517\n",
       "    })\n",
       "})"
      ]
     },
     "execution_count": 33,
     "metadata": {},
     "output_type": "execute_result"
    }
   ],
   "source": [
    "dataset"
   ]
  },
  {
   "cell_type": "markdown",
   "metadata": {
    "id": "2KE8AnFJTX3q"
   },
   "source": [
    "### preprocessing"
   ]
  },
  {
   "cell_type": "code",
   "execution_count": 34,
   "metadata": {
    "id": "0ALBVPuWTX3r"
   },
   "outputs": [],
   "source": [
    "from transformers import AutoTokenizer\n",
    "\n",
    "tokenizer = AutoTokenizer.from_pretrained(model_checkpoint)"
   ]
  },
  {
   "cell_type": "code",
   "execution_count": 35,
   "metadata": {
    "colab": {
     "base_uri": "https://localhost:8080/"
    },
    "id": "SKw_cU-DTX3r",
    "outputId": "1022cec9-0f2b-4d68-ace0-0dd29816d028"
   },
   "outputs": [
    {
     "data": {
      "text/plain": [
       "{'input_ids': [8774, 6, 48, 80, 7142, 55, 1], 'attention_mask': [1, 1, 1, 1, 1, 1, 1]}"
      ]
     },
     "execution_count": 35,
     "metadata": {},
     "output_type": "execute_result"
    }
   ],
   "source": [
    "tokenizer(\"Hello, this one sentence!\")"
   ]
  },
  {
   "cell_type": "code",
   "execution_count": 36,
   "metadata": {
    "id": "IQDQx1VQTX3s"
   },
   "outputs": [],
   "source": [
    "if model_checkpoint in [\"t5-small\", \"t5-base\", \"t5-larg\", \"t5-3b\", \"t5-11b\"]:\n",
    "    prefix = \"summarize: \"\n",
    "else:\n",
    "    prefix = \"\""
   ]
  },
  {
   "cell_type": "code",
   "execution_count": 37,
   "metadata": {
    "id": "T-k00PfZTX3s"
   },
   "outputs": [],
   "source": [
    "max_input_length = 1024\n",
    "max_target_length = 128\n",
    "\n",
    "\n",
    "def preprocess_function(examples):\n",
    "    inputs = [prefix + doc for doc in examples[\"abstract\"]]\n",
    "    model_inputs = tokenizer(inputs, max_length=max_input_length, truncation=True)\n",
    "\n",
    "    # Setup the tokenizer for targets\n",
    "    with tokenizer.as_target_tokenizer():\n",
    "        labels = tokenizer(\n",
    "            examples[\"title\"], max_length=max_target_length, truncation=True\n",
    "        )\n",
    "\n",
    "    model_inputs[\"labels\"] = labels[\"input_ids\"]\n",
    "    return model_inputs"
   ]
  },
  {
   "cell_type": "code",
   "execution_count": 38,
   "metadata": {
    "colab": {
     "base_uri": "https://localhost:8080/"
    },
    "id": "4FJTx2BmTX3u",
    "outputId": "089494de-0c3b-4e69-90a7-f416b472c05f"
   },
   "outputs": [
    {
     "data": {
      "text/plain": [
       "{'input_ids': [[21603, 10, 282, 7, 343, 53, 414, 1105, 12, 2862, 5327, 772, 45, 3, 9, 508, 17953, 19, 46, 359, 682, 21, 1249, 18, 12563, 4476, 1357, 492, 5, 304, 1115, 48, 682, 6, 420, 18, 157, 11, 5796, 747, 13154, 43, 118, 5456, 7546, 6, 68, 79, 321, 43, 18340, 3314, 1549, 7, 6, 3, 23, 5, 15, 5, 6, 8, 1139, 893, 65, 12, 370, 3, 9, 806, 6637, 1681, 42, 8519, 186, 772, 5, 37, 3, 157, 18, 60, 3584, 17, 8984, 1707, 11417, 19, 4382, 6, 84, 9162, 7, 8, 7565, 7, 13, 420, 18, 157, 11, 5796, 747, 13154, 5, 6984, 12, 8, 3, 9082, 18, 5651, 655, 13, 8, 682, 6, 8, 3, 157, 18, 60, 3584, 17, 8984, 1707, 11417, 19, 97, 3, 10862, 11, 8, 30337, 63, 4732, 19, 5456, 7546, 5, 611, 6, 4727, 13605, 1693, 13, 8, 30337, 63, 6315, 21, 8, 463, 13, 8, 3666, 772, 19, 341, 16914, 5, 86, 48, 1040, 6, 62, 166, 14, 48, 6813, 57, 13646, 3, 9, 529, 1788, 5907, 40, 13605, 1693, 13, 8, 1120, 12907, 603, 257, 5688, 13, 8, 3666, 772, 5, 304, 1634, 95, 11417, 3026, 6, 3, 9, 17222, 18, 390, 1573, 6, 8272, 75, 10572, 517, 60, 15, 26, 6, 6, 19, 1597, 12, 1428, 8, 5002, 583, 5, 86, 811, 6, 3, 9, 13605, 1693, 13, 8, 831, 3106, 812, 19, 4468, 12, 8120, 8, 463, 13, 8, 3666, 772, 5, 4213, 6, 3452, 12341, 33, 4468, 30, 321, 490, 11, 13699, 17953, 7, 12, 5970, 8, 3949, 11, 9570, 13, 8, 4382, 2254, 5, 1], [21603, 10, 101, 915, 3, 9, 7774, 6, 2643, 26, 18, 413, 4993, 13, 28351, 3026, 16, 6917, 11, 24228, 1612, 2250, 57, 10858, 57, 18, 6051, 6363, 97, 331, 21, 26653, 315, 8953, 17, 2708, 447, 794, 3132, 7, 640, 3, 9, 620, 13, 8649, 24666, 5, 3892, 6363, 97, 331, 639, 45, 3, 9, 3714, 367, 11082, 20491, 718, 8, 3037, 3233, 920, 22839, 15, 2491, 5, 101, 4048, 936, 6363, 648, 12, 57, 18, 6051, 9551, 2197, 21, 662, 4092, 1612, 2250, 6, 28, 315, 4648, 7, 11, 4252, 30, 3, 9, 620, 13, 331, 356, 4342, 5, 101, 253, 24, 640, 186, 24666, 6, 321, 6917, 11, 1612, 2250, 504, 1936, 3026, 8565, 16, 73, 5096, 4992, 138, 7142, 6266, 28, 936, 11, 825, 3, 2, 6004, 450, 4710, 31, 7586, 41, 9, 50, 1571, 2494, 11, 6741, 1847, 599, 9457, 61, 61, 81, 4081, 5, 611, 6, 2199, 1612, 825, 3911, 7, 1588, 6917, 16, 2212, 6, 62, 504, 24, 2250, 3, 28657, 365, 18, 2026, 12194, 8, 1750, 16, 20722, 13, 28351, 3026, 8565, 344, 3, 5096, 4992, 138, 11, 73, 5096, 4992, 138, 16513, 5, 3, 22265, 6, 116, 2250, 6326, 8953, 17, 2708, 447, 17880, 79, 5124, 12, 12700, 9689, 8, 1200, 6363, 648, 6970, 16, 8, 936, 331, 5, 506, 772, 580, 139, 822, 823, 4092, 1612, 2250, 33, 16009, 936, 18, 2376, 821, 21, 3, 13398, 12, 8953, 17, 2708, 447, 17880, 5, 1]], 'attention_mask': [[1, 1, 1, 1, 1, 1, 1, 1, 1, 1, 1, 1, 1, 1, 1, 1, 1, 1, 1, 1, 1, 1, 1, 1, 1, 1, 1, 1, 1, 1, 1, 1, 1, 1, 1, 1, 1, 1, 1, 1, 1, 1, 1, 1, 1, 1, 1, 1, 1, 1, 1, 1, 1, 1, 1, 1, 1, 1, 1, 1, 1, 1, 1, 1, 1, 1, 1, 1, 1, 1, 1, 1, 1, 1, 1, 1, 1, 1, 1, 1, 1, 1, 1, 1, 1, 1, 1, 1, 1, 1, 1, 1, 1, 1, 1, 1, 1, 1, 1, 1, 1, 1, 1, 1, 1, 1, 1, 1, 1, 1, 1, 1, 1, 1, 1, 1, 1, 1, 1, 1, 1, 1, 1, 1, 1, 1, 1, 1, 1, 1, 1, 1, 1, 1, 1, 1, 1, 1, 1, 1, 1, 1, 1, 1, 1, 1, 1, 1, 1, 1, 1, 1, 1, 1, 1, 1, 1, 1, 1, 1, 1, 1, 1, 1, 1, 1, 1, 1, 1, 1, 1, 1, 1, 1, 1, 1, 1, 1, 1, 1, 1, 1, 1, 1, 1, 1, 1, 1, 1, 1, 1, 1, 1, 1, 1, 1, 1, 1, 1, 1, 1, 1, 1, 1, 1, 1, 1, 1, 1, 1, 1, 1, 1, 1, 1, 1, 1, 1, 1, 1, 1, 1, 1, 1, 1, 1, 1, 1, 1, 1, 1, 1, 1, 1, 1, 1, 1, 1, 1, 1, 1, 1, 1, 1, 1, 1, 1, 1, 1, 1, 1, 1, 1, 1, 1, 1, 1, 1, 1, 1, 1, 1, 1, 1, 1, 1, 1, 1, 1, 1], [1, 1, 1, 1, 1, 1, 1, 1, 1, 1, 1, 1, 1, 1, 1, 1, 1, 1, 1, 1, 1, 1, 1, 1, 1, 1, 1, 1, 1, 1, 1, 1, 1, 1, 1, 1, 1, 1, 1, 1, 1, 1, 1, 1, 1, 1, 1, 1, 1, 1, 1, 1, 1, 1, 1, 1, 1, 1, 1, 1, 1, 1, 1, 1, 1, 1, 1, 1, 1, 1, 1, 1, 1, 1, 1, 1, 1, 1, 1, 1, 1, 1, 1, 1, 1, 1, 1, 1, 1, 1, 1, 1, 1, 1, 1, 1, 1, 1, 1, 1, 1, 1, 1, 1, 1, 1, 1, 1, 1, 1, 1, 1, 1, 1, 1, 1, 1, 1, 1, 1, 1, 1, 1, 1, 1, 1, 1, 1, 1, 1, 1, 1, 1, 1, 1, 1, 1, 1, 1, 1, 1, 1, 1, 1, 1, 1, 1, 1, 1, 1, 1, 1, 1, 1, 1, 1, 1, 1, 1, 1, 1, 1, 1, 1, 1, 1, 1, 1, 1, 1, 1, 1, 1, 1, 1, 1, 1, 1, 1, 1, 1, 1, 1, 1, 1, 1, 1, 1, 1, 1, 1, 1, 1, 1, 1, 1, 1, 1, 1, 1, 1, 1, 1, 1, 1, 1, 1, 1, 1, 1, 1, 1, 1, 1, 1, 1, 1, 1, 1, 1, 1, 1, 1, 1, 1, 1, 1, 1, 1, 1, 1, 1, 1, 1, 1, 1, 1, 1, 1, 1, 1, 1, 1, 1]], 'labels': [[262, 89, 17397, 19125, 13, 3, 157, 18, 60, 3584, 17, 4533, 51, 1707, 7227, 2593, 28, 37, 127, 7578, 138, 21420, 7, 1], [71, 12615, 15, 26, 15186, 13, 1542, 60, 13974, 19125, 16, 1484, 9709, 10509, 24663, 7, 11, 3892, 7, 1]]}"
      ]
     },
     "execution_count": 38,
     "metadata": {},
     "output_type": "execute_result"
    }
   ],
   "source": [
    "preprocess_function(dataset['train'][:2])"
   ]
  },
  {
   "cell_type": "code",
   "execution_count": 39,
   "metadata": {
    "colab": {
     "base_uri": "https://localhost:8080/",
     "height": 81,
     "referenced_widgets": [
      "d1fa8db225254e77a8fb0c399d1a4e72",
      "15bdd025d2b144cba11779d6546b72d4",
      "2e9433386644445f9dbdb80ac32c95ba",
      "1c99a1317d5f4d4abfd3080d48ff2281",
      "028ee2f0422f43babdf023c81fc431bc",
      "875bbd8682114098a8b3c0acb57198c8",
      "b55dce3281aa4660aa96c12f86acf201",
      "ad5165e041b84c7f93d8111c81546301",
      "e7bce65d8e4e4518a22fd02f22230cc3",
      "e169ecef37c74b01808e01234603f59b",
      "6b94c794416e409ebd3657151fad05b1",
      "77d2377a13004df09085831582bacfda",
      "21198972c9c1472480d0120e86fc3626",
      "1064bec9d00d44599200cc42cd68b1f6",
      "74111cc77c4040e68a82558bc7d551d1",
      "d76014817c7940808fdd3bd3c655653f",
      "12cafd2a66604f019fb04a53aa9f3b5e",
      "18886e40f86548428916f7cd64d8cb64",
      "bcd4a83bf3c442888dccfa1f7e6914b6",
      "743dd04b0e59425d8ffc3dd9253d9596",
      "2a64c281d5ca443eb4d2159308ee88ec",
      "1340f5f33d754ea9b386df257579a837"
     ]
    },
    "id": "YhCN3jiITX3u",
    "outputId": "435094e6-d237-48ce-f881-190d5fad690f"
   },
   "outputs": [
    {
     "data": {
      "application/vnd.jupyter.widget-view+json": {
       "model_id": "d1fa8db225254e77a8fb0c399d1a4e72",
       "version_major": 2,
       "version_minor": 0
      },
      "text/plain": [
       "  0%|          | 0/8 [00:00<?, ?ba/s]"
      ]
     },
     "metadata": {},
     "output_type": "display_data"
    },
    {
     "data": {
      "application/vnd.jupyter.widget-view+json": {
       "model_id": "77d2377a13004df09085831582bacfda",
       "version_major": 2,
       "version_minor": 0
      },
      "text/plain": [
       "  0%|          | 0/3 [00:00<?, ?ba/s]"
      ]
     },
     "metadata": {},
     "output_type": "display_data"
    }
   ],
   "source": [
    "tokenized_datasets = dataset.map(preprocess_function, batched=True)"
   ]
  },
  {
   "cell_type": "markdown",
   "metadata": {
    "id": "_iHLmYptTX3u"
   },
   "source": [
    "## Fine-tuning the model"
   ]
  },
  {
   "cell_type": "code",
   "execution_count": 40,
   "metadata": {
    "colab": {
     "base_uri": "https://localhost:8080/"
    },
    "id": "zMgtmAUtTX3u",
    "outputId": "faa2f309-720f-4cdf-a61a-a5f55b465ad6"
   },
   "outputs": [
    {
     "name": "stderr",
     "output_type": "stream",
     "text": [
      "All model checkpoint layers were used when initializing TFT5ForConditionalGeneration.\n",
      "\n",
      "All the layers of TFT5ForConditionalGeneration were initialized from the model checkpoint at t5-small.\n",
      "If your task is similar to the task the model of the checkpoint was trained on, you can already use TFT5ForConditionalGeneration for predictions without further training.\n"
     ]
    }
   ],
   "source": [
    "from transformers import TFAutoModelForSeq2SeqLM, DataCollatorForSeq2Seq\n",
    "\n",
    "model = TFAutoModelForSeq2SeqLM.from_pretrained(model_checkpoint)"
   ]
  },
  {
   "cell_type": "code",
   "execution_count": 41,
   "metadata": {
    "id": "FwHtp0kpTX3v"
   },
   "outputs": [],
   "source": [
    "batch_size = 8\n",
    "learning_rate = 2e-5\n",
    "weight_decay = 0.01\n",
    "num_train_epochs = 1"
   ]
  },
  {
   "cell_type": "code",
   "execution_count": 42,
   "metadata": {
    "id": "WbcqXFEZTX3v"
   },
   "outputs": [],
   "source": [
    "data_collator = DataCollatorForSeq2Seq(tokenizer, model=model, return_tensors=\"tf\")"
   ]
  },
  {
   "cell_type": "code",
   "execution_count": 43,
   "metadata": {
    "colab": {
     "base_uri": "https://localhost:8080/"
    },
    "id": "MOA07UzhTX3w",
    "outputId": "eec0c3ed-e02c-4149-9371-c70a80c6b1e7"
   },
   "outputs": [
    {
     "data": {
      "text/plain": [
       "DatasetDict({\n",
       "    train: Dataset({\n",
       "        features: ['abstract', 'attention_mask', 'category', 'general_category', 'id', 'input_ids', 'labels', 'title'],\n",
       "        num_rows: 7550\n",
       "    })\n",
       "    test: Dataset({\n",
       "        features: ['abstract', 'attention_mask', 'category', 'general_category', 'id', 'input_ids', 'labels', 'title'],\n",
       "        num_rows: 2517\n",
       "    })\n",
       "})"
      ]
     },
     "execution_count": 43,
     "metadata": {},
     "output_type": "execute_result"
    }
   ],
   "source": [
    "tokenized_datasets"
   ]
  },
  {
   "cell_type": "code",
   "execution_count": 44,
   "metadata": {
    "id": "1aTPZsJhTX3x"
   },
   "outputs": [],
   "source": [
    "train_dataset = tokenized_datasets[\"train\"].to_tf_dataset(\n",
    "    batch_size=batch_size,\n",
    "    columns=[\"input_ids\", \"attention_mask\", \"labels\"],\n",
    "    shuffle=True,\n",
    "    collate_fn=data_collator,\n",
    ")\n",
    "validation_dataset = tokenized_datasets[\"test\"].to_tf_dataset(\n",
    "    batch_size=8,\n",
    "    columns=[\"input_ids\", \"attention_mask\", \"labels\"],\n",
    "    shuffle=False,\n",
    "    collate_fn=data_collator,\n",
    ")"
   ]
  },
  {
   "cell_type": "code",
   "execution_count": 45,
   "metadata": {
    "colab": {
     "base_uri": "https://localhost:8080/"
    },
    "id": "b0_4DECuTX3z",
    "outputId": "9fa7f155-06ee-4770-b58e-545242f1e09c"
   },
   "outputs": [
    {
     "name": "stderr",
     "output_type": "stream",
     "text": [
      "No loss specified in compile() - the model's internal loss computation will be used as the loss. Don't panic - this is a common way to train TensorFlow models in Transformers! Please ensure your labels are passed as the 'labels' key of the input dict so that they are accessible to the model during the forward pass. To disable this behaviour, please pass a loss argument, or explicitly pass loss=None if you do not want your model to compute a loss.\n"
     ]
    }
   ],
   "source": [
    "from transformers import AdamWeightDecay\n",
    "import tensorflow as tf\n",
    "\n",
    "optimizer = AdamWeightDecay(learning_rate=learning_rate, weight_decay_rate=weight_decay)\n",
    "model.compile(optimizer=optimizer)"
   ]
  },
  {
   "cell_type": "code",
   "execution_count": 47,
   "metadata": {
    "colab": {
     "base_uri": "https://localhost:8080/"
    },
    "id": "mr_5GpjKTX30",
    "outputId": "b884abec-c139-467e-9846-0f8ba54c95ea"
   },
   "outputs": [
    {
     "name": "stdout",
     "output_type": "stream",
     "text": [
      "Epoch 1/4\n",
      "943/943 [==============================] - 563s 597ms/step - loss: 2.7126 - val_loss: 2.3126\n",
      "Epoch 2/4\n",
      "943/943 [==============================] - 556s 590ms/step - loss: 2.4981 - val_loss: 2.2511\n",
      "Epoch 3/4\n",
      "943/943 [==============================] - 555s 588ms/step - loss: 2.4257 - val_loss: 2.2122\n",
      "Epoch 4/4\n",
      "943/943 [==============================] - 553s 586ms/step - loss: 2.3721 - val_loss: 2.1900\n"
     ]
    },
    {
     "data": {
      "text/plain": [
       "<keras.callbacks.History at 0x7f12ef78ca50>"
      ]
     },
     "execution_count": 47,
     "metadata": {},
     "output_type": "execute_result"
    }
   ],
   "source": [
    "model.fit(train_dataset, validation_data=validation_dataset, epochs=4)"
   ]
  },
  {
   "cell_type": "markdown",
   "metadata": {
    "id": "cvH7xMfgTX31"
   },
   "source": [
    "## Evaluate the performance of the model"
   ]
  },
  {
   "cell_type": "code",
   "execution_count": 48,
   "metadata": {
    "id": "i4ELzLneTX31"
   },
   "outputs": [],
   "source": [
    "import numpy as np\n",
    "\n",
    "decoded_predictions = []\n",
    "decoded_labels = []\n",
    "for batch in validation_dataset:\n",
    "    labels = batch[\"labels\"]\n",
    "    predictions = model.predict_on_batch(batch)[\"logits\"]\n",
    "    predicted_tokens = np.argmax(predictions, axis=-1)\n",
    "    decoded_predictions.extend(\n",
    "        tokenizer.batch_decode(predicted_tokens, skip_special_tokens=True)\n",
    "    )\n",
    "    labels = np.where(labels != -100, labels, tokenizer.pad_token_id)\n",
    "    decoded_labels.extend(tokenizer.batch_decode(labels, skip_special_tokens=True))"
   ]
  },
  {
   "cell_type": "code",
   "execution_count": 50,
   "metadata": {
    "colab": {
     "base_uri": "https://localhost:8080/"
    },
    "id": "oKORDOsFgXFM",
    "outputId": "ee96541f-f667-4262-caf7-6a74dfe2a5e2"
   },
   "outputs": [
    {
     "name": "stdout",
     "output_type": "stream",
     "text": [
      "[nltk_data] Downloading package punkt to /root/nltk_data...\n",
      "[nltk_data]   Unzipping tokenizers/punkt.zip.\n"
     ]
    },
    {
     "data": {
      "text/plain": [
       "True"
      ]
     },
     "execution_count": 50,
     "metadata": {},
     "output_type": "execute_result"
    }
   ],
   "source": [
    "nltk.download('punkt')"
   ]
  },
  {
   "cell_type": "code",
   "execution_count": 55,
   "metadata": {
    "colab": {
     "base_uri": "https://localhost:8080/"
    },
    "id": "to8XnhrbTX32",
    "outputId": "dde0f358-fc6f-4dcc-ea2b-bfd6d3601aab"
   },
   "outputs": [
    {
     "name": "stdout",
     "output_type": "stream",
     "text": [
      "{'rouge1': 0.3297, 'rouge2': 0.1578, 'rougeL': 0.3183, 'rougeLsum': 0.3189, 'gen_len': 931712.0}\n"
     ]
    }
   ],
   "source": [
    "import nltk\n",
    "import numpy as np\n",
    "\n",
    "metric = load_metric(\"rouge\")\n",
    "\n",
    "# Rouge expects a newline after each sentence\n",
    "decoded_predictions = [\n",
    "    \"\\n\".join(nltk.sent_tokenize(pred.strip())) for pred in decoded_predictions\n",
    "]\n",
    "decoded_labels = [\n",
    "    \"\\n\".join(nltk.sent_tokenize(label.strip())) for label in decoded_labels\n",
    "]\n",
    "\n",
    "result = metric.compute(\n",
    "    predictions=decoded_predictions, references=decoded_labels, use_stemmer=True\n",
    ")\n",
    "# Extract a few results\n",
    "result = {key: value.mid.fmeasure for key, value in result.items()}\n",
    "\n",
    "# Add mean generated length\n",
    "prediction_lens = [\n",
    "    np.count_nonzero(pred != tokenizer.pad_token_id) for pred in predictions\n",
    "]\n",
    "result[\"gen_len\"] = np.mean(prediction_lens)\n",
    "\n",
    "print({k: round(v, 4) for k, v in result.items()})"
   ]
  },
  {
   "cell_type": "markdown",
   "metadata": {
    "id": "_TP9E0kFhfKk"
   },
   "source": [
    "## Inference"
   ]
  },
  {
   "cell_type": "code",
   "execution_count": 65,
   "metadata": {
    "colab": {
     "base_uri": "https://localhost:8080/",
     "height": 192
    },
    "id": "hZVzxqJmh2sg",
    "outputId": "19d9ea75-0b75-464d-b987-94231f156474"
   },
   "outputs": [
    {
     "data": {
      "application/vnd.google.colaboratory.intrinsic+json": {
       "type": "string"
      },
      "text/plain": [
       "'  In this paper, a dynamic-programming approach to the coupled translational\\nand rotational control of thruster-driven spacecraft is studied. To reduce the\\ncomplexity of the problem, dynamic-programming-based optimal policies are\\ncalculated using decoupled position and attitude dynamics with generalized\\nforces and torques as controls. A quadratic-programming-based control\\nallocation is then used to map the controls to actuator commands. To control\\nthe spacecraft in the event of thruster failure, both the dynamic programming\\npolicies and control allocation are reconfigured to cope with the losses in\\ncontrols. The control allocation parameters are adjusted dynamically to ensure\\nthe satellite always approaches the target from the side with two operative\\nthrusters to achieve a stable control. The effectiveness of the proposed\\ndynamic programming control is compared with a Lyapunov-stable control method,\\nwhich shows that the proposed method is more fuel-efficient in tracking the\\nsame path.\\n'"
      ]
     },
     "execution_count": 65,
     "metadata": {},
     "output_type": "execute_result"
    }
   ],
   "source": [
    "dataset['test']['abstract'][0]"
   ]
  },
  {
   "cell_type": "code",
   "execution_count": 66,
   "metadata": {
    "colab": {
     "base_uri": "https://localhost:8080/",
     "height": 35
    },
    "id": "_bCNGNdTirY5",
    "outputId": "65d69f13-b6f4-43a5-b722-116bab4035db"
   },
   "outputs": [
    {
     "data": {
      "application/vnd.google.colaboratory.intrinsic+json": {
       "type": "string"
      },
      "text/plain": [
       "'Dynamic-Programming-Based Failure-Tolerant Control for Satellite with\\n  Thrusters in 6-DOF Motion'"
      ]
     },
     "execution_count": 66,
     "metadata": {},
     "output_type": "execute_result"
    }
   ],
   "source": [
    "dataset['test']['title'][0]"
   ]
  },
  {
   "cell_type": "code",
   "execution_count": 72,
   "metadata": {
    "colab": {
     "base_uri": "https://localhost:8080/"
    },
    "id": "dsPYKLH3jZ7k",
    "outputId": "e80af2f8-05b8-44a1-c6a0-1b6fd1d4baf2"
   },
   "outputs": [
    {
     "name": "stdout",
     "output_type": "stream",
     "text": [
      "Actual Title: Dynamic-Programming-Based Failure-Tolerant Control for Satellite with\n",
      "  Thrusters in 6-DOF Motion\n",
      "\n",
      "Predicted Title: <pad> Dynamic-programming-based optimal policies for thruster-driven spacecraft\n",
      "\n",
      "Actual Abstract:   In this paper, a dynamic-programming approach to the coupled translational\n",
      "and rotational control of thruster-driven spacecraft is studied. To reduce the\n",
      "complexity of the problem, dynamic-programming-based optimal policies are\n",
      "calculated using decoupled position and attitude dynamics with generalized\n",
      "forces and torques as controls. A quadratic-programming-based control\n",
      "allocation is then used to map the controls to actuator commands. To control\n",
      "the spacecraft in the event of thruster failure, both the dynamic programming\n",
      "policies and control allocation are reconfigured to cope with the losses in\n",
      "controls. The control allocation parameters are adjusted dynamically to ensure\n",
      "the satellite always approaches the target from the side with two operative\n",
      "thrusters to achieve a stable control. The effectiveness of the proposed\n",
      "dynamic programming control is compared with a Lyapunov-stable control method,\n",
      "which shows that the proposed method is more fuel-efficient in tracking the\n",
      "same path.\n",
      "\n"
     ]
    }
   ],
   "source": [
    "random_num = 0\n",
    "\n",
    "actual_title = dataset['test']['title'][random_num]\n",
    "actual_abstract = dataset['test']['abstract'][random_num]\n",
    "\n",
    "\n",
    "# T5 uses a max_length of 512 so we cut the article to 512 tokens.\n",
    "inputs = tokenizer(\"summarize: \" + actual_abstract, return_tensors=\"tf\", max_length=512)\n",
    "outputs = model.generate(\n",
    "    inputs[\"input_ids\"], max_length=20, min_length=5, length_penalty=2.0, num_beams=4, early_stopping=True\n",
    ")\n",
    "\n",
    "print(f'Actual Title: {actual_title}\\n')\n",
    "print(f'Predicted Title: {tokenizer.decode(outputs[0])}\\n')\n",
    "print(f'Actual Abstract: {actual_abstract}')\n",
    "\n",
    "# print(tokenizer.decode(outputs[0]))"
   ]
  },
  {
   "cell_type": "code",
   "execution_count": null,
   "metadata": {
    "id": "DFNxPyuSi6yI"
   },
   "outputs": [],
   "source": [
    " "
   ]
  }
 ],
 "metadata": {
  "accelerator": "GPU",
  "colab": {
   "name": "04_title_generation.ipynb",
   "provenance": []
  },
  "kernelspec": {
   "display_name": "arxiv_venv",
   "language": "python",
   "name": "arxiv_venv"
  },
  "language_info": {
   "codemirror_mode": {
    "name": "ipython",
    "version": 3
   },
   "file_extension": ".py",
   "mimetype": "text/x-python",
   "name": "python",
   "nbconvert_exporter": "python",
   "pygments_lexer": "ipython3",
   "version": "3.9.5"
  },
  "widgets": {
   "application/vnd.jupyter.widget-state+json": {
    "028ee2f0422f43babdf023c81fc431bc": {
     "model_module": "@jupyter-widgets/controls",
     "model_module_version": "1.5.0",
     "model_name": "HTMLModel",
     "state": {
      "_dom_classes": [],
      "_model_module": "@jupyter-widgets/controls",
      "_model_module_version": "1.5.0",
      "_model_name": "HTMLModel",
      "_view_count": null,
      "_view_module": "@jupyter-widgets/controls",
      "_view_module_version": "1.5.0",
      "_view_name": "HTMLView",
      "description": "",
      "description_tooltip": null,
      "layout": "IPY_MODEL_6b94c794416e409ebd3657151fad05b1",
      "placeholder": "​",
      "style": "IPY_MODEL_e169ecef37c74b01808e01234603f59b",
      "value": " 8/8 [00:05&lt;00:00,  1.69ba/s]"
     }
    },
    "1064bec9d00d44599200cc42cd68b1f6": {
     "model_module": "@jupyter-widgets/controls",
     "model_module_version": "1.5.0",
     "model_name": "HTMLModel",
     "state": {
      "_dom_classes": [],
      "_model_module": "@jupyter-widgets/controls",
      "_model_module_version": "1.5.0",
      "_model_name": "HTMLModel",
      "_view_count": null,
      "_view_module": "@jupyter-widgets/controls",
      "_view_module_version": "1.5.0",
      "_view_name": "HTMLView",
      "description": "",
      "description_tooltip": null,
      "layout": "IPY_MODEL_18886e40f86548428916f7cd64d8cb64",
      "placeholder": "​",
      "style": "IPY_MODEL_12cafd2a66604f019fb04a53aa9f3b5e",
      "value": "100%"
     }
    },
    "12cafd2a66604f019fb04a53aa9f3b5e": {
     "model_module": "@jupyter-widgets/controls",
     "model_module_version": "1.5.0",
     "model_name": "DescriptionStyleModel",
     "state": {
      "_model_module": "@jupyter-widgets/controls",
      "_model_module_version": "1.5.0",
      "_model_name": "DescriptionStyleModel",
      "_view_count": null,
      "_view_module": "@jupyter-widgets/base",
      "_view_module_version": "1.2.0",
      "_view_name": "StyleView",
      "description_width": ""
     }
    },
    "1340f5f33d754ea9b386df257579a837": {
     "model_module": "@jupyter-widgets/base",
     "model_module_version": "1.2.0",
     "model_name": "LayoutModel",
     "state": {
      "_model_module": "@jupyter-widgets/base",
      "_model_module_version": "1.2.0",
      "_model_name": "LayoutModel",
      "_view_count": null,
      "_view_module": "@jupyter-widgets/base",
      "_view_module_version": "1.2.0",
      "_view_name": "LayoutView",
      "align_content": null,
      "align_items": null,
      "align_self": null,
      "border": null,
      "bottom": null,
      "display": null,
      "flex": null,
      "flex_flow": null,
      "grid_area": null,
      "grid_auto_columns": null,
      "grid_auto_flow": null,
      "grid_auto_rows": null,
      "grid_column": null,
      "grid_gap": null,
      "grid_row": null,
      "grid_template_areas": null,
      "grid_template_columns": null,
      "grid_template_rows": null,
      "height": null,
      "justify_content": null,
      "justify_items": null,
      "left": null,
      "margin": null,
      "max_height": null,
      "max_width": null,
      "min_height": null,
      "min_width": null,
      "object_fit": null,
      "object_position": null,
      "order": null,
      "overflow": null,
      "overflow_x": null,
      "overflow_y": null,
      "padding": null,
      "right": null,
      "top": null,
      "visibility": null,
      "width": null
     }
    },
    "15bdd025d2b144cba11779d6546b72d4": {
     "model_module": "@jupyter-widgets/base",
     "model_module_version": "1.2.0",
     "model_name": "LayoutModel",
     "state": {
      "_model_module": "@jupyter-widgets/base",
      "_model_module_version": "1.2.0",
      "_model_name": "LayoutModel",
      "_view_count": null,
      "_view_module": "@jupyter-widgets/base",
      "_view_module_version": "1.2.0",
      "_view_name": "LayoutView",
      "align_content": null,
      "align_items": null,
      "align_self": null,
      "border": null,
      "bottom": null,
      "display": null,
      "flex": null,
      "flex_flow": null,
      "grid_area": null,
      "grid_auto_columns": null,
      "grid_auto_flow": null,
      "grid_auto_rows": null,
      "grid_column": null,
      "grid_gap": null,
      "grid_row": null,
      "grid_template_areas": null,
      "grid_template_columns": null,
      "grid_template_rows": null,
      "height": null,
      "justify_content": null,
      "justify_items": null,
      "left": null,
      "margin": null,
      "max_height": null,
      "max_width": null,
      "min_height": null,
      "min_width": null,
      "object_fit": null,
      "object_position": null,
      "order": null,
      "overflow": null,
      "overflow_x": null,
      "overflow_y": null,
      "padding": null,
      "right": null,
      "top": null,
      "visibility": null,
      "width": null
     }
    },
    "18886e40f86548428916f7cd64d8cb64": {
     "model_module": "@jupyter-widgets/base",
     "model_module_version": "1.2.0",
     "model_name": "LayoutModel",
     "state": {
      "_model_module": "@jupyter-widgets/base",
      "_model_module_version": "1.2.0",
      "_model_name": "LayoutModel",
      "_view_count": null,
      "_view_module": "@jupyter-widgets/base",
      "_view_module_version": "1.2.0",
      "_view_name": "LayoutView",
      "align_content": null,
      "align_items": null,
      "align_self": null,
      "border": null,
      "bottom": null,
      "display": null,
      "flex": null,
      "flex_flow": null,
      "grid_area": null,
      "grid_auto_columns": null,
      "grid_auto_flow": null,
      "grid_auto_rows": null,
      "grid_column": null,
      "grid_gap": null,
      "grid_row": null,
      "grid_template_areas": null,
      "grid_template_columns": null,
      "grid_template_rows": null,
      "height": null,
      "justify_content": null,
      "justify_items": null,
      "left": null,
      "margin": null,
      "max_height": null,
      "max_width": null,
      "min_height": null,
      "min_width": null,
      "object_fit": null,
      "object_position": null,
      "order": null,
      "overflow": null,
      "overflow_x": null,
      "overflow_y": null,
      "padding": null,
      "right": null,
      "top": null,
      "visibility": null,
      "width": null
     }
    },
    "1c99a1317d5f4d4abfd3080d48ff2281": {
     "model_module": "@jupyter-widgets/controls",
     "model_module_version": "1.5.0",
     "model_name": "FloatProgressModel",
     "state": {
      "_dom_classes": [],
      "_model_module": "@jupyter-widgets/controls",
      "_model_module_version": "1.5.0",
      "_model_name": "FloatProgressModel",
      "_view_count": null,
      "_view_module": "@jupyter-widgets/controls",
      "_view_module_version": "1.5.0",
      "_view_name": "ProgressView",
      "bar_style": "success",
      "description": "",
      "description_tooltip": null,
      "layout": "IPY_MODEL_e7bce65d8e4e4518a22fd02f22230cc3",
      "max": 8,
      "min": 0,
      "orientation": "horizontal",
      "style": "IPY_MODEL_ad5165e041b84c7f93d8111c81546301",
      "value": 8
     }
    },
    "21198972c9c1472480d0120e86fc3626": {
     "model_module": "@jupyter-widgets/base",
     "model_module_version": "1.2.0",
     "model_name": "LayoutModel",
     "state": {
      "_model_module": "@jupyter-widgets/base",
      "_model_module_version": "1.2.0",
      "_model_name": "LayoutModel",
      "_view_count": null,
      "_view_module": "@jupyter-widgets/base",
      "_view_module_version": "1.2.0",
      "_view_name": "LayoutView",
      "align_content": null,
      "align_items": null,
      "align_self": null,
      "border": null,
      "bottom": null,
      "display": null,
      "flex": null,
      "flex_flow": null,
      "grid_area": null,
      "grid_auto_columns": null,
      "grid_auto_flow": null,
      "grid_auto_rows": null,
      "grid_column": null,
      "grid_gap": null,
      "grid_row": null,
      "grid_template_areas": null,
      "grid_template_columns": null,
      "grid_template_rows": null,
      "height": null,
      "justify_content": null,
      "justify_items": null,
      "left": null,
      "margin": null,
      "max_height": null,
      "max_width": null,
      "min_height": null,
      "min_width": null,
      "object_fit": null,
      "object_position": null,
      "order": null,
      "overflow": null,
      "overflow_x": null,
      "overflow_y": null,
      "padding": null,
      "right": null,
      "top": null,
      "visibility": null,
      "width": null
     }
    },
    "2a64c281d5ca443eb4d2159308ee88ec": {
     "model_module": "@jupyter-widgets/controls",
     "model_module_version": "1.5.0",
     "model_name": "DescriptionStyleModel",
     "state": {
      "_model_module": "@jupyter-widgets/controls",
      "_model_module_version": "1.5.0",
      "_model_name": "DescriptionStyleModel",
      "_view_count": null,
      "_view_module": "@jupyter-widgets/base",
      "_view_module_version": "1.2.0",
      "_view_name": "StyleView",
      "description_width": ""
     }
    },
    "2e9433386644445f9dbdb80ac32c95ba": {
     "model_module": "@jupyter-widgets/controls",
     "model_module_version": "1.5.0",
     "model_name": "HTMLModel",
     "state": {
      "_dom_classes": [],
      "_model_module": "@jupyter-widgets/controls",
      "_model_module_version": "1.5.0",
      "_model_name": "HTMLModel",
      "_view_count": null,
      "_view_module": "@jupyter-widgets/controls",
      "_view_module_version": "1.5.0",
      "_view_name": "HTMLView",
      "description": "",
      "description_tooltip": null,
      "layout": "IPY_MODEL_b55dce3281aa4660aa96c12f86acf201",
      "placeholder": "​",
      "style": "IPY_MODEL_875bbd8682114098a8b3c0acb57198c8",
      "value": "100%"
     }
    },
    "6b94c794416e409ebd3657151fad05b1": {
     "model_module": "@jupyter-widgets/base",
     "model_module_version": "1.2.0",
     "model_name": "LayoutModel",
     "state": {
      "_model_module": "@jupyter-widgets/base",
      "_model_module_version": "1.2.0",
      "_model_name": "LayoutModel",
      "_view_count": null,
      "_view_module": "@jupyter-widgets/base",
      "_view_module_version": "1.2.0",
      "_view_name": "LayoutView",
      "align_content": null,
      "align_items": null,
      "align_self": null,
      "border": null,
      "bottom": null,
      "display": null,
      "flex": null,
      "flex_flow": null,
      "grid_area": null,
      "grid_auto_columns": null,
      "grid_auto_flow": null,
      "grid_auto_rows": null,
      "grid_column": null,
      "grid_gap": null,
      "grid_row": null,
      "grid_template_areas": null,
      "grid_template_columns": null,
      "grid_template_rows": null,
      "height": null,
      "justify_content": null,
      "justify_items": null,
      "left": null,
      "margin": null,
      "max_height": null,
      "max_width": null,
      "min_height": null,
      "min_width": null,
      "object_fit": null,
      "object_position": null,
      "order": null,
      "overflow": null,
      "overflow_x": null,
      "overflow_y": null,
      "padding": null,
      "right": null,
      "top": null,
      "visibility": null,
      "width": null
     }
    },
    "74111cc77c4040e68a82558bc7d551d1": {
     "model_module": "@jupyter-widgets/controls",
     "model_module_version": "1.5.0",
     "model_name": "FloatProgressModel",
     "state": {
      "_dom_classes": [],
      "_model_module": "@jupyter-widgets/controls",
      "_model_module_version": "1.5.0",
      "_model_name": "FloatProgressModel",
      "_view_count": null,
      "_view_module": "@jupyter-widgets/controls",
      "_view_module_version": "1.5.0",
      "_view_name": "ProgressView",
      "bar_style": "success",
      "description": "",
      "description_tooltip": null,
      "layout": "IPY_MODEL_743dd04b0e59425d8ffc3dd9253d9596",
      "max": 3,
      "min": 0,
      "orientation": "horizontal",
      "style": "IPY_MODEL_bcd4a83bf3c442888dccfa1f7e6914b6",
      "value": 3
     }
    },
    "743dd04b0e59425d8ffc3dd9253d9596": {
     "model_module": "@jupyter-widgets/base",
     "model_module_version": "1.2.0",
     "model_name": "LayoutModel",
     "state": {
      "_model_module": "@jupyter-widgets/base",
      "_model_module_version": "1.2.0",
      "_model_name": "LayoutModel",
      "_view_count": null,
      "_view_module": "@jupyter-widgets/base",
      "_view_module_version": "1.2.0",
      "_view_name": "LayoutView",
      "align_content": null,
      "align_items": null,
      "align_self": null,
      "border": null,
      "bottom": null,
      "display": null,
      "flex": null,
      "flex_flow": null,
      "grid_area": null,
      "grid_auto_columns": null,
      "grid_auto_flow": null,
      "grid_auto_rows": null,
      "grid_column": null,
      "grid_gap": null,
      "grid_row": null,
      "grid_template_areas": null,
      "grid_template_columns": null,
      "grid_template_rows": null,
      "height": null,
      "justify_content": null,
      "justify_items": null,
      "left": null,
      "margin": null,
      "max_height": null,
      "max_width": null,
      "min_height": null,
      "min_width": null,
      "object_fit": null,
      "object_position": null,
      "order": null,
      "overflow": null,
      "overflow_x": null,
      "overflow_y": null,
      "padding": null,
      "right": null,
      "top": null,
      "visibility": null,
      "width": null
     }
    },
    "77d2377a13004df09085831582bacfda": {
     "model_module": "@jupyter-widgets/controls",
     "model_module_version": "1.5.0",
     "model_name": "HBoxModel",
     "state": {
      "_dom_classes": [],
      "_model_module": "@jupyter-widgets/controls",
      "_model_module_version": "1.5.0",
      "_model_name": "HBoxModel",
      "_view_count": null,
      "_view_module": "@jupyter-widgets/controls",
      "_view_module_version": "1.5.0",
      "_view_name": "HBoxView",
      "box_style": "",
      "children": [
       "IPY_MODEL_1064bec9d00d44599200cc42cd68b1f6",
       "IPY_MODEL_74111cc77c4040e68a82558bc7d551d1",
       "IPY_MODEL_d76014817c7940808fdd3bd3c655653f"
      ],
      "layout": "IPY_MODEL_21198972c9c1472480d0120e86fc3626"
     }
    },
    "875bbd8682114098a8b3c0acb57198c8": {
     "model_module": "@jupyter-widgets/controls",
     "model_module_version": "1.5.0",
     "model_name": "DescriptionStyleModel",
     "state": {
      "_model_module": "@jupyter-widgets/controls",
      "_model_module_version": "1.5.0",
      "_model_name": "DescriptionStyleModel",
      "_view_count": null,
      "_view_module": "@jupyter-widgets/base",
      "_view_module_version": "1.2.0",
      "_view_name": "StyleView",
      "description_width": ""
     }
    },
    "ad5165e041b84c7f93d8111c81546301": {
     "model_module": "@jupyter-widgets/controls",
     "model_module_version": "1.5.0",
     "model_name": "ProgressStyleModel",
     "state": {
      "_model_module": "@jupyter-widgets/controls",
      "_model_module_version": "1.5.0",
      "_model_name": "ProgressStyleModel",
      "_view_count": null,
      "_view_module": "@jupyter-widgets/base",
      "_view_module_version": "1.2.0",
      "_view_name": "StyleView",
      "bar_color": null,
      "description_width": ""
     }
    },
    "b55dce3281aa4660aa96c12f86acf201": {
     "model_module": "@jupyter-widgets/base",
     "model_module_version": "1.2.0",
     "model_name": "LayoutModel",
     "state": {
      "_model_module": "@jupyter-widgets/base",
      "_model_module_version": "1.2.0",
      "_model_name": "LayoutModel",
      "_view_count": null,
      "_view_module": "@jupyter-widgets/base",
      "_view_module_version": "1.2.0",
      "_view_name": "LayoutView",
      "align_content": null,
      "align_items": null,
      "align_self": null,
      "border": null,
      "bottom": null,
      "display": null,
      "flex": null,
      "flex_flow": null,
      "grid_area": null,
      "grid_auto_columns": null,
      "grid_auto_flow": null,
      "grid_auto_rows": null,
      "grid_column": null,
      "grid_gap": null,
      "grid_row": null,
      "grid_template_areas": null,
      "grid_template_columns": null,
      "grid_template_rows": null,
      "height": null,
      "justify_content": null,
      "justify_items": null,
      "left": null,
      "margin": null,
      "max_height": null,
      "max_width": null,
      "min_height": null,
      "min_width": null,
      "object_fit": null,
      "object_position": null,
      "order": null,
      "overflow": null,
      "overflow_x": null,
      "overflow_y": null,
      "padding": null,
      "right": null,
      "top": null,
      "visibility": null,
      "width": null
     }
    },
    "bcd4a83bf3c442888dccfa1f7e6914b6": {
     "model_module": "@jupyter-widgets/controls",
     "model_module_version": "1.5.0",
     "model_name": "ProgressStyleModel",
     "state": {
      "_model_module": "@jupyter-widgets/controls",
      "_model_module_version": "1.5.0",
      "_model_name": "ProgressStyleModel",
      "_view_count": null,
      "_view_module": "@jupyter-widgets/base",
      "_view_module_version": "1.2.0",
      "_view_name": "StyleView",
      "bar_color": null,
      "description_width": ""
     }
    },
    "d1fa8db225254e77a8fb0c399d1a4e72": {
     "model_module": "@jupyter-widgets/controls",
     "model_module_version": "1.5.0",
     "model_name": "HBoxModel",
     "state": {
      "_dom_classes": [],
      "_model_module": "@jupyter-widgets/controls",
      "_model_module_version": "1.5.0",
      "_model_name": "HBoxModel",
      "_view_count": null,
      "_view_module": "@jupyter-widgets/controls",
      "_view_module_version": "1.5.0",
      "_view_name": "HBoxView",
      "box_style": "",
      "children": [
       "IPY_MODEL_2e9433386644445f9dbdb80ac32c95ba",
       "IPY_MODEL_1c99a1317d5f4d4abfd3080d48ff2281",
       "IPY_MODEL_028ee2f0422f43babdf023c81fc431bc"
      ],
      "layout": "IPY_MODEL_15bdd025d2b144cba11779d6546b72d4"
     }
    },
    "d76014817c7940808fdd3bd3c655653f": {
     "model_module": "@jupyter-widgets/controls",
     "model_module_version": "1.5.0",
     "model_name": "HTMLModel",
     "state": {
      "_dom_classes": [],
      "_model_module": "@jupyter-widgets/controls",
      "_model_module_version": "1.5.0",
      "_model_name": "HTMLModel",
      "_view_count": null,
      "_view_module": "@jupyter-widgets/controls",
      "_view_module_version": "1.5.0",
      "_view_name": "HTMLView",
      "description": "",
      "description_tooltip": null,
      "layout": "IPY_MODEL_1340f5f33d754ea9b386df257579a837",
      "placeholder": "​",
      "style": "IPY_MODEL_2a64c281d5ca443eb4d2159308ee88ec",
      "value": " 3/3 [00:01&lt;00:00,  1.84ba/s]"
     }
    },
    "e169ecef37c74b01808e01234603f59b": {
     "model_module": "@jupyter-widgets/controls",
     "model_module_version": "1.5.0",
     "model_name": "DescriptionStyleModel",
     "state": {
      "_model_module": "@jupyter-widgets/controls",
      "_model_module_version": "1.5.0",
      "_model_name": "DescriptionStyleModel",
      "_view_count": null,
      "_view_module": "@jupyter-widgets/base",
      "_view_module_version": "1.2.0",
      "_view_name": "StyleView",
      "description_width": ""
     }
    },
    "e7bce65d8e4e4518a22fd02f22230cc3": {
     "model_module": "@jupyter-widgets/base",
     "model_module_version": "1.2.0",
     "model_name": "LayoutModel",
     "state": {
      "_model_module": "@jupyter-widgets/base",
      "_model_module_version": "1.2.0",
      "_model_name": "LayoutModel",
      "_view_count": null,
      "_view_module": "@jupyter-widgets/base",
      "_view_module_version": "1.2.0",
      "_view_name": "LayoutView",
      "align_content": null,
      "align_items": null,
      "align_self": null,
      "border": null,
      "bottom": null,
      "display": null,
      "flex": null,
      "flex_flow": null,
      "grid_area": null,
      "grid_auto_columns": null,
      "grid_auto_flow": null,
      "grid_auto_rows": null,
      "grid_column": null,
      "grid_gap": null,
      "grid_row": null,
      "grid_template_areas": null,
      "grid_template_columns": null,
      "grid_template_rows": null,
      "height": null,
      "justify_content": null,
      "justify_items": null,
      "left": null,
      "margin": null,
      "max_height": null,
      "max_width": null,
      "min_height": null,
      "min_width": null,
      "object_fit": null,
      "object_position": null,
      "order": null,
      "overflow": null,
      "overflow_x": null,
      "overflow_y": null,
      "padding": null,
      "right": null,
      "top": null,
      "visibility": null,
      "width": null
     }
    }
   }
  }
 },
 "nbformat": 4,
 "nbformat_minor": 4
}
